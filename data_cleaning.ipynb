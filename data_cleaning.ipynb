{
 "cells": [
  {
   "cell_type": "code",
   "execution_count": 15,
   "metadata": {},
   "outputs": [],
   "source": [
    "from sklearn.model_selection import train_test_split\n",
    "import os\n",
    "from PIL import Image"
   ]
  },
  {
   "cell_type": "code",
   "execution_count": 16,
   "metadata": {},
   "outputs": [],
   "source": [
    "# Path for Images and Masks.\n",
    "image_path = os.path.abspath('data/dataset/semantic_drone_dataset/original_images')\n",
    "mask_path = os.path.abspath('data/dataset/semantic_drone_dataset/label_images_semantic')"
   ]
  },
  {
   "cell_type": "code",
   "execution_count": 17,
   "metadata": {},
   "outputs": [],
   "source": [
    "# Extract all Images & Masks.\n",
    "image_files = [f for f in os.listdir(image_path) if f.endswith('.jpg')]\n",
    "mask_files = [f for f in os.listdir(mask_path) if f.endswith('.png')]"
   ]
  },
  {
   "cell_type": "code",
   "execution_count": 18,
   "metadata": {},
   "outputs": [],
   "source": [
    "# Sort Files for Alignment.\n",
    "image_files.sort()\n",
    "mask_files.sort()"
   ]
  },
  {
   "cell_type": "code",
   "execution_count": 20,
   "metadata": {},
   "outputs": [],
   "source": [
    "# Create Paths to Each Image & Masks.\n",
    "image_paths = [os.path.join(image_path, f) for f in image_files]\n",
    "mask_paths = [os.path.join(mask_path, f) for f in mask_files]"
   ]
  },
  {
   "cell_type": "code",
   "execution_count": 21,
   "metadata": {},
   "outputs": [],
   "source": [
    "# Split Data into Training & Testing (80-20 Split).\n",
    "x_train, x_test, y_train, y_test = train_test_split(image_paths, mask_paths, test_size=0.2, random_state=42)"
   ]
  },
  {
   "cell_type": "code",
   "execution_count": 22,
   "metadata": {},
   "outputs": [],
   "source": [
    "# Function to Load Images & Masks.\n",
    "def load_image_mask(image_path, mask_path):\n",
    "    image = Image.open(image_path)\n",
    "    mask = Image.open(mask_path)\n",
    "    return image, mask"
   ]
  },
  {
   "cell_type": "code",
   "execution_count": 23,
   "metadata": {},
   "outputs": [],
   "source": [
    "# Loading Training & Testing Data.\n",
    "train_data = [load_image_mask(img, mask) for img, mask in zip(x_train, y_train)]\n",
    "test_data = [load_image_mask(img, mask) for img, mask in zip(x_test, y_test)]"
   ]
  },
  {
   "cell_type": "code",
   "execution_count": 24,
   "metadata": {},
   "outputs": [],
   "source": [
    "# Hashmap of Directories to Clean Data.\n",
    "output_directory = {\n",
    "    \"train_images\": \"advanced_data/x_train\",\n",
    "    \"train_masks\": \"advanced_data/y_train\",\n",
    "    \"test_images\": \"advanced_data/x_test\",\n",
    "    \"test_masks\": \"advanced_data/y_test\"\n",
    "}\n",
    "\n",
    "# Create Directories if they don't exist.\n",
    "for path in output_directory.values():\n",
    "    os.makedirs(path, exist_ok=True)"
   ]
  },
  {
   "cell_type": "code",
   "execution_count": 25,
   "metadata": {},
   "outputs": [],
   "source": [
    "# Function to Save Images into Directories.\n",
    "def save_images_masks(dataset, image_dir, mask_dir, checkpoint_file='checkpoint.txt'):\n",
    "    start_index = 0\n",
    "    if os.path.exists(checkpoint_file):\n",
    "        with open(checkpoint_file, 'r') as f:\n",
    "            start_index = int(f.read().strip())\n",
    "    \n",
    "    for i, (image, mask) in enumerate(dataset[start_index:], start=start_index):\n",
    "        try:\n",
    "            image_path = os.path.join(image_dir, f'{i}.jpg')\n",
    "            mask_path = os.path.join(mask_dir, f'{i}.png')\n",
    "            \n",
    "            image.save(image_path)\n",
    "            mask.save(mask_path)\n",
    "            \n",
    "            with open(checkpoint_file, 'w') as f:\n",
    "                f.write(str(i + 1))\n",
    "                \n",
    "        \n",
    "        except Exception as e:\n",
    "            print(f\"Error saving image {i}: {e}\")\n",
    "            break"
   ]
  },
  {
   "cell_type": "code",
   "execution_count": 26,
   "metadata": {},
   "outputs": [],
   "source": [
    "# Saving Training Data.\n",
    "save_images_masks(train_data, output_directory[\"train_images\"], output_directory[\"train_masks\"])"
   ]
  },
  {
   "cell_type": "code",
   "execution_count": 28,
   "metadata": {},
   "outputs": [],
   "source": [
    "# Set Back to 0 for Testing.\n",
    "with open(\"checkpoint.txt\", 'w') as f:\n",
    "    f.write(str(0))"
   ]
  },
  {
   "cell_type": "code",
   "execution_count": 29,
   "metadata": {},
   "outputs": [],
   "source": [
    "# Saving Testing Data.\n",
    "save_images_masks(test_data, output_directory[\"test_images\"], output_directory[\"test_masks\"])"
   ]
  },
  {
   "cell_type": "code",
   "execution_count": 30,
   "metadata": {},
   "outputs": [],
   "source": [
    "# Remove Checkpoint\n",
    "if os.path.exists(\"checkpoint.txt\"):\n",
    "    os.remove(\"checkpoint.txt\")"
   ]
  }
 ],
 "metadata": {
  "kernelspec": {
   "display_name": "Python 3",
   "language": "python",
   "name": "python3"
  },
  "language_info": {
   "codemirror_mode": {
    "name": "ipython",
    "version": 3
   },
   "file_extension": ".py",
   "mimetype": "text/x-python",
   "name": "python",
   "nbconvert_exporter": "python",
   "pygments_lexer": "ipython3",
   "version": "3.12.0"
  }
 },
 "nbformat": 4,
 "nbformat_minor": 2
}
