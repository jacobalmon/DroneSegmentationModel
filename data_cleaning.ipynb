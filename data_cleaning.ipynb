{
 "cells": [
  {
   "cell_type": "code",
   "execution_count": 1,
   "metadata": {},
   "outputs": [],
   "source": [
    "from sklearn.model_selection import train_test_split\n",
    "import os\n",
    "from PIL import Image"
   ]
  },
  {
   "cell_type": "code",
   "execution_count": 2,
   "metadata": {},
   "outputs": [],
   "source": [
    "# Path for Images and Masks.\n",
    "image_path = os.path.abspath('data/dataset/semantic_drone_dataset/original_images')\n",
    "mask_path = os.path.abspath('data/dataset/semantic_drone_dataset/label_images_semantic')"
   ]
  },
  {
   "cell_type": "code",
   "execution_count": 3,
   "metadata": {},
   "outputs": [],
   "source": [
    "# Extract all Images & Masks.\n",
    "image_files = [f for f in os.listdir(image_path) if f.endswith('.jpg')]\n",
    "mask_files = [f for f in os.listdir(mask_path) if f.endswith('.png')]"
   ]
  },
  {
   "cell_type": "code",
   "execution_count": 4,
   "metadata": {},
   "outputs": [],
   "source": [
    "# Sort Files for Alignment.\n",
    "image_files.sort()\n",
    "mask_files.sort()"
   ]
  },
  {
   "cell_type": "code",
   "execution_count": 5,
   "metadata": {},
   "outputs": [],
   "source": [
    "# Create Paths to Each Image & Masks.\n",
    "image_paths = [os.path.join(image_path, f) for f in image_files]\n",
    "mask_paths = [os.path.join(mask_path, f) for f in mask_files]"
   ]
  },
  {
   "cell_type": "code",
   "execution_count": 6,
   "metadata": {},
   "outputs": [],
   "source": [
    "# Split Data into Training, Validation, and Testing.\n",
    "x_train_val, x_test, y_train_val, y_test = train_test_split(image_paths, mask_paths, test_size=40/(280+80+40), random_state=42)\n",
    "x_train, x_val, y_train, y_val = train_test_split(x_train_val, y_train_val, test_size=80/(280+80), random_state=42)"
   ]
  },
  {
   "cell_type": "code",
   "execution_count": 7,
   "metadata": {},
   "outputs": [],
   "source": [
    "# Function to Load Images & Masks.\n",
    "def load_image_mask(image_path, mask_path):\n",
    "    image = Image.open(image_path)\n",
    "    mask = Image.open(mask_path)\n",
    "    return image, mask"
   ]
  },
  {
   "cell_type": "code",
   "execution_count": 8,
   "metadata": {},
   "outputs": [],
   "source": [
    "# Loading Training, Validation, and Testing Data. (280-80-40 Split)\n",
    "train_data = [load_image_mask(img, mask) for img, mask in zip(x_train, y_train)]\n",
    "val_data = [load_image_mask(img, mask) for img, mask in zip(x_val, y_val)]\n",
    "test_data = [load_image_mask(img, mask) for img, mask in zip(x_test, y_test)]"
   ]
  },
  {
   "cell_type": "code",
   "execution_count": 9,
   "metadata": {},
   "outputs": [],
   "source": [
    "# Hashmap of Directories to Clean Data.\n",
    "output_directory = {\n",
    "    \"train_images\": \"advanced_data/x_train\",\n",
    "    \"train_masks\": \"advanced_data/y_train\",\n",
    "    \"val_images\": \"advanced_data/x_valid\",\n",
    "    \"val_masks\": \"advanced_data/y_valid\",\n",
    "    \"test_images\": \"advanced_data/x_test\",\n",
    "    \"test_masks\": \"advanced_data/y_test\"\n",
    "}\n",
    "\n",
    "# Create Directories if they don't exist.\n",
    "for path in output_directory.values():\n",
    "    os.makedirs(path, exist_ok=True)"
   ]
  },
  {
   "cell_type": "code",
   "execution_count": 10,
   "metadata": {},
   "outputs": [],
   "source": [
    "# Function to Save Images into Directories.\n",
    "def save_images_masks(dataset, image_dir, mask_dir, checkpoint_file='checkpoint.txt'):\n",
    "    start_index = 0\n",
    "    if os.path.exists(checkpoint_file):\n",
    "        with open(checkpoint_file, 'r') as f:\n",
    "            start_index = int(f.read().strip())\n",
    "    \n",
    "    for i, (image, mask) in enumerate(dataset[start_index:], start=start_index):\n",
    "        try:\n",
    "            image_path = os.path.join(image_dir, f'{i}.jpg')\n",
    "            mask_path = os.path.join(mask_dir, f'{i}.png')\n",
    "            \n",
    "            image.save(image_path)\n",
    "            mask.save(mask_path)\n",
    "            \n",
    "            with open(checkpoint_file, 'w') as f:\n",
    "                f.write(str(i + 1))\n",
    "                \n",
    "        \n",
    "        except Exception as e:\n",
    "            print(f\"Error saving image {i}: {e}\")\n",
    "            break"
   ]
  },
  {
   "cell_type": "code",
   "execution_count": 11,
   "metadata": {},
   "outputs": [],
   "source": [
    "# Saving Training Data.\n",
    "save_images_masks(train_data, output_directory[\"train_images\"], output_directory[\"train_masks\"])"
   ]
  },
  {
   "cell_type": "code",
   "execution_count": 12,
   "metadata": {},
   "outputs": [],
   "source": [
    "# Set Back to 0 for Validation.\n",
    "with open(\"checkpoint.txt\", 'w') as f:\n",
    "    f.write(str(0))"
   ]
  },
  {
   "cell_type": "code",
   "execution_count": 13,
   "metadata": {},
   "outputs": [],
   "source": [
    "# Save Validation Data.\n",
    "save_images_masks(val_data, output_directory[\"val_images\"], output_directory[\"val_masks\"])"
   ]
  },
  {
   "cell_type": "code",
   "execution_count": 14,
   "metadata": {},
   "outputs": [],
   "source": [
    "# Set Back to 0 for Testing.\n",
    "with open(\"checkpoint.txt\", 'w') as f:\n",
    "    f.write(str(0))"
   ]
  },
  {
   "cell_type": "code",
   "execution_count": 15,
   "metadata": {},
   "outputs": [],
   "source": [
    "# Saving Testing Data.\n",
    "save_images_masks(test_data, output_directory[\"test_images\"], output_directory[\"test_masks\"])"
   ]
  },
  {
   "cell_type": "code",
   "execution_count": 16,
   "metadata": {},
   "outputs": [],
   "source": [
    "# Remove Checkpoint\n",
    "if os.path.exists(\"checkpoint.txt\"):\n",
    "    os.remove(\"checkpoint.txt\")"
   ]
  }
 ],
 "metadata": {
  "kernelspec": {
   "display_name": "Python 3",
   "language": "python",
   "name": "python3"
  },
  "language_info": {
   "codemirror_mode": {
    "name": "ipython",
    "version": 3
   },
   "file_extension": ".py",
   "mimetype": "text/x-python",
   "name": "python",
   "nbconvert_exporter": "python",
   "pygments_lexer": "ipython3",
   "version": "3.9.21"
  }
 },
 "nbformat": 4,
 "nbformat_minor": 2
}
