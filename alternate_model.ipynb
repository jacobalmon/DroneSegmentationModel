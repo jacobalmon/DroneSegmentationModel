{
 "cells": [
  {
   "cell_type": "code",
   "execution_count": 1,
   "metadata": {},
   "outputs": [],
   "source": [
    "import os\n",
    "import random\n",
    "import glob\n",
    "import numpy as np\n",
    "import torch\n",
    "from torch.utils.data import Dataset, DataLoader\n",
    "from torchvision import transforms\n",
    "from PIL import Image\n",
    "from torch import nn, optim"
   ]
  },
  {
   "cell_type": "code",
   "execution_count": 3,
   "metadata": {},
   "outputs": [],
   "source": [
    "class SementicSegmentationDrone(Dataset):\n",
    "    def __init__(self, image_dir, mask_dir, transform=None, tile_size=512):\n",
    "        self.images = sorted(glob.glob(os.path.join(image_dir, \"*.jpg\")))\n",
    "        self.masks = sorted(glob.glob(os.path.join(mask_dir, \"*.png\")))\n",
    "        self.transform = transform\n",
    "        self.tile_size = tile_size\n",
    "\n",
    "    def __len__(self):\n",
    "        return len(self.images)\n",
    "    \n",
    "    def __getitem__(self, idx):\n",
    "        image = Image.open(self.images[idx])\n",
    "        mask = Image.open(self.masks[idx])\n",
    "\n",
    "        mask = np.array(mask)\n",
    "\n",
    "        if image.size[0] > self.tile_size or image.size[1] > self.tile_size:\n",
    "            image_tiles, mask_tiles = self.split_into_tiles(image, mask)\n",
    "            idx_tile = random.randint(0, len(image_tiles) - 1)\n",
    "            image, mask = image_tiles[idx_tile], mask_tiles[idx_tile]\n",
    "\n",
    "        if self.transform:\n",
    "            image = self.transform(image)\n",
    "            mask = torch.tensor(mask, dtype=torch.long)\n",
    "\n",
    "        return image, mask\n",
    "    \n",
    "    def split_into_tiles(self, image, mask):\n",
    "        image_width, image_height = image.size\n",
    "        image_tiles = []\n",
    "        mask_tiles = []\n",
    "\n",
    "        for i in range(0, image_width, self.tile_size):\n",
    "            for j in range(0, image_height, self.tile_size):\n",
    "                image_tile = image.crop((i, j, min(i+self.tile_size, image_width), min(j+self.tile_size, image_height)))\n",
    "                mask_tile = mask.crop((i, j, min(i+self.tile_size, image_width), min(j+self.tile_size, image_height)))\n",
    "                image_tiles.append(image_tile)\n",
    "                mask_tiles.append(mask_tile)\n",
    "\n",
    "        return image_tiles, mask_tiles"
   ]
  },
  {
   "cell_type": "code",
   "execution_count": 4,
   "metadata": {},
   "outputs": [],
   "source": [
    "directory = {\n",
    "    \"train_images\": \"advanced_data/x_train\",\n",
    "    \"train_masks\": \"advanced_data/y_train\",\n",
    "    \"val_images\": \"advanced_data/x_valid\",\n",
    "    \"val_masks\": \"advanced_data/y_valid\",\n",
    "    \"test_images\": \"advanced_data/x_test\",\n",
    "    \"test_masks\": \"advanced_data/y_test\"\n",
    "}\n",
    "\n",
    "transform = transforms.Compose([\n",
    "    transforms.ToTensor(),\n",
    "])\n",
    "\n",
    "train_data = SementicSegmentationDrone(directory[\"train_images\"], directory[\"train_masks\"], transform=transform, tile_size=512)\n",
    "valid_data = SementicSegmentationDrone(directory[\"val_images\"], directory[\"val_masks\"], transform=transform, tile_size=512)\n",
    "test_data = SementicSegmentationDrone(directory[\"test_images\"], directory[\"test_masks\"], transform=transform, tile_size=512)\n",
    "\n",
    "train_dataloader = DataLoader(train_data, batch_size=4, shuffle=True)\n",
    "valid_dataloader = DataLoader(valid_data, batch_size=4, shuffle=False)\n",
    "test_dataloader = DataLoader(test_data, batch_size=4, shuffle=False)"
   ]
  }
 ],
 "metadata": {
  "kernelspec": {
   "display_name": "Python 3",
   "language": "python",
   "name": "python3"
  },
  "language_info": {
   "codemirror_mode": {
    "name": "ipython",
    "version": 3
   },
   "file_extension": ".py",
   "mimetype": "text/x-python",
   "name": "python",
   "nbconvert_exporter": "python",
   "pygments_lexer": "ipython3",
   "version": "3.12.0"
  }
 },
 "nbformat": 4,
 "nbformat_minor": 2
}
